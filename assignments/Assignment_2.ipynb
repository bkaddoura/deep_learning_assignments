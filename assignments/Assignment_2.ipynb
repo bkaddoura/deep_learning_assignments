{
  "cells": [
    {
      "cell_type": "markdown",
      "source": [
        "# Text Generation with Recurrent Neural Networks (RNNs)\n",
        "\n",
        "In this assignment, you'll build upon your understanding of RNNs and Keras to develop a word-level text generation model.  Your goal is to train a model that learns the stylistic nuances of a chosen corpus and generates new, original text segments that echo the source material's essence.\n",
        "\n",
        "**Datasets**\n",
        "\n",
        "We've provided several intriguing text corpora to get you started:\n",
        "\n",
        "*   Mark Twain\n",
        "*   Charles Dickens\n",
        "*   William Shakespeare\n",
        "\n",
        "**Feel free to explore!**  If you have a particular passion for another author, genre, or a specific text, you're encouraged to use your own dataset of raw text."
      ],
      "metadata": {
        "collapsed": false,
        "id": "7c6788aef474ca12"
      },
      "id": "7c6788aef474ca12"
    },
    {
      "cell_type": "code",
      "outputs": [
        {
          "output_type": "stream",
          "name": "stdout",
          "text": [
            "Default GPU Device: /device:GPU:0\n"
          ]
        }
      ],
      "source": [
        "# Check if we have a GPU available\n",
        "import tensorflow as tf\n",
        "if tf.test.gpu_device_name():\n",
        "    print('Default GPU Device: {}'.format(tf.test.gpu_device_name()))\n",
        "else:\n",
        "    print(\"No GPU available. If you're on Colab, go to Runtime > Change runtime and select a GPU hardware accelerator.\")"
      ],
      "metadata": {
        "colab": {
          "base_uri": "https://localhost:8080/"
        },
        "id": "2d0bfedcfe52aedc",
        "outputId": "dbdb34b8-2dd3-4d9d-a484-23c912bd393d"
      },
      "id": "2d0bfedcfe52aedc",
      "execution_count": 1
    },
    {
      "cell_type": "code",
      "outputs": [],
      "source": [
        "def download_file(url, file_path):\n",
        "    import requests\n",
        "    r = requests.get(url)\n",
        "    with open(file_path, 'wb') as f:\n",
        "        f.write(r.content)\n",
        "\n",
        "def load_dataset(file_path, fraction=1.0):\n",
        "    with open(file_path, 'r', encoding='utf-8') as f:\n",
        "        raw_text = f.read()\n",
        "    return raw_text[:int(fraction * len(raw_text))]\n",
        "\n",
        "dataset = 'shakespeare.txt' # Other options are mark_twain.txt, charles_dickens.txt\n",
        "\n",
        "download_file(f'https://raw.githubusercontent.com/UofT-DSI/deep_learning/main/03_assignments/downloaded_books/' + dataset, dataset)\n",
        "\n",
        "# Load chosen dataset. NOTE: If Colab is running out of memory, change the `fraction` parameter to a value between 0 and 1 to load less data.\n",
        "text = load_dataset(dataset, fraction=0.1)"
      ],
      "metadata": {
        "id": "9c28c497f620b775",
        "ExecuteTime": {
          "end_time": "2024-02-08T21:30:44.959803Z",
          "start_time": "2024-02-08T21:30:44.701343Z"
        }
      },
      "id": "9c28c497f620b775",
      "execution_count": 2
    },
    {
      "cell_type": "markdown",
      "source": [
        "# 1. Data Preparation (10 Marks)\n",
        "\n",
        "Before we can begin training an RNN model, we need to prepare the dataset. This involves cleaning the text, tokenizing words, and creating sequences the model can be trained on.\n",
        "\n",
        "## 1.1 Data Exploration (3 Marks)\n",
        "\n",
        "Print the first 1000 characters of the dataset. Report the dataset's size and the number of unique characters it contains."
      ],
      "metadata": {
        "collapsed": false,
        "id": "dab51c764031e606"
      },
      "id": "dab51c764031e606"
    },
    {
      "cell_type": "code",
      "source": [
        "#first 1000 characters\n",
        "print(text[:1000])"
      ],
      "metadata": {
        "id": "BunkZmdkl0Wn",
        "colab": {
          "base_uri": "https://localhost:8080/"
        },
        "outputId": "0519c543-eadb-4c19-989c-7703d0d4bc8f"
      },
      "id": "BunkZmdkl0Wn",
      "execution_count": 3,
      "outputs": [
        {
          "output_type": "stream",
          "name": "stdout",
          "text": [
            "The Project Gutenberg EBook of Hamlet, by William Shakespeare\n",
            "\n",
            "This eBook is for the use of anyone anywhere at no cost and with\n",
            "almost no restrictions whatsoever.  You may copy it, give it away or\n",
            "re-use it under the terms of the Project Gutenberg License included\n",
            "with this eBook or online at www.gutenberg.org\n",
            "\n",
            "\n",
            "Title: Hamlet\n",
            "\n",
            "Author: William Shakespeare\n",
            "\n",
            "Editor: Charles Kean\n",
            "\n",
            "Release Date: January 10, 2009 [EBook #27761]\n",
            "\n",
            "Language: English\n",
            "\n",
            "Character set encoding: UTF-8\n",
            "\n",
            "*** START OF THIS PROJECT GUTENBERG EBOOK HAMLET ***\n",
            "\n",
            "\n",
            "\n",
            "\n",
            "Produced by David Starner, Curtis Weyant and the Online\n",
            "Distributed Proofreading Team at https://www.pgdp.net\n",
            "\n",
            "\n",
            "\n",
            "\n",
            "\n",
            "\n",
            "\n",
            "\n",
            "\n",
            "    Transcriber's Note:\n",
            "    This is a heavily edited version of _Hamlet_. It was used\n",
            "    for Charles Kean's 1859 stage production. Phrases printed\n",
            "    in italics in the book are indicated in this electronic\n",
            "    version by _ (underscore). Footnotes originally appeared\n",
            "    at the bottom of each page. For this electronic version\n",
            "    the footnotes \n"
          ]
        }
      ]
    },
    {
      "cell_type": "code",
      "source": [
        "#number of unique characters\n",
        "unique_chars = len(set(text))\n",
        "print(\"Number of unique characters:\", unique_chars)"
      ],
      "metadata": {
        "id": "cLtYBYRMhmh1",
        "outputId": "2dddd6a9-c1e8-48c8-b71a-dcc183e76687",
        "colab": {
          "base_uri": "https://localhost:8080/"
        }
      },
      "execution_count": 4,
      "outputs": [
        {
          "output_type": "stream",
          "name": "stdout",
          "text": [
            "Number of unique characters: 131\n"
          ]
        }
      ],
      "id": "cLtYBYRMhmh1"
    },
    {
      "cell_type": "code",
      "source": [
        "#size of dataset\n",
        "print(\"Dataset size:\", len(text))"
      ],
      "metadata": {
        "id": "hQ4elu10hfKG",
        "outputId": "2bb02b1c-9dc4-42c3-c0bf-666aff9c795a",
        "colab": {
          "base_uri": "https://localhost:8080/"
        }
      },
      "execution_count": 5,
      "outputs": [
        {
          "output_type": "stream",
          "name": "stdout",
          "text": [
            "Dataset size: 935886\n"
          ]
        }
      ],
      "id": "hQ4elu10hfKG"
    },
    {
      "cell_type": "markdown",
      "source": [
        "## 1.2 Text Pre-Processing (4 Marks)\n",
        "\n",
        "To prepare the dataset for training, we need to clean the text and create a numerical representation the model can interpret. Perform the following pre-processing steps:\n",
        "\n",
        "*   Convert the entire text to lowercase.\n",
        "*   Use the `Tokenizer` class from the `keras.preprocessing.text` module to tokenize the text. You should fit the tokenizer on the text and then convert the text to a sequence of numbers. You can use the `texts_to_sequences` method to do this.\n",
        "\n",
        "**Note**:\n",
        "* You'll need to specify an appropriate size for the vocabulary. The number of words in the list of most common words can serve as a guide - does it seem like a reasonable vocabulary size?\n",
        "* Some of the words will be excluded from the vocabulary, as they don't appear often enough. It's important to provide a value for `oov_token` when creating the Tokenizer instance, so that these words can be represented as \"unknown\"."
      ],
      "metadata": {
        "collapsed": false,
        "id": "3ae1639f5ecfe587"
      },
      "id": "3ae1639f5ecfe587"
    },
    {
      "cell_type": "code",
      "outputs": [],
      "source": [
        "from keras.preprocessing.text import Tokenizer\n",
        "\n",
        "# Tokenize the text\n",
        "VOCAB_SIZE = 200  # Example vocabulary size, adjust as needed\n",
        "OOV_TOKEN = '<UNK>'  # Out of vocabulary token\n",
        "tokenizer = Tokenizer(num_words=VOCAB_SIZE, oov_token=OOV_TOKEN, lower=True, char_level=False)\n",
        "tokenizer.fit_on_texts([text])"
      ],
      "metadata": {
        "id": "4d0d30cd98ea453c"
      },
      "id": "4d0d30cd98ea453c",
      "execution_count": 6
    },
    {
      "cell_type": "markdown",
      "source": [
        "If everything worked, the following line should show you the first 10 words in the vocabulary:"
      ],
      "metadata": {
        "collapsed": false,
        "id": "89d32bb9356f711"
      },
      "id": "89d32bb9356f711"
    },
    {
      "cell_type": "code",
      "outputs": [
        {
          "output_type": "stream",
          "name": "stdout",
          "text": [
            "[('<UNK>', 1), ('the', 2), ('and', 3), ('of', 4), ('to', 5), ('a', 6), ('in', 7), ('i', 8), ('that', 9), ('you', 10)]\n"
          ]
        }
      ],
      "source": [
        "print(list(tokenizer.word_index.items())[:10])"
      ],
      "metadata": {
        "colab": {
          "base_uri": "https://localhost:8080/"
        },
        "id": "6a7cd547a19feece",
        "outputId": "1c9c29ef-41df-4b16-8e27-f4ca529a8c72"
      },
      "id": "6a7cd547a19feece",
      "execution_count": 7
    },
    {
      "cell_type": "markdown",
      "source": [
        "## 1.3 Sequence Generation (3 Marks)\n",
        "\n",
        "Now that the text has been tokenized, we need to create sequences the model can be trained on. There are two parts to this:\n",
        "\n",
        "*   Use the `texts_to_sequences` method from the tokenizer to convert the text to a list of sequences of numbers.\n",
        "*   Generate the training sequences. Each training sequence should contain `SEQ_LENGTH` token IDs from the text. The target token for each sequence should be the word that follows the sequence in the text."
      ],
      "metadata": {
        "collapsed": false,
        "id": "da504e4bc6617613"
      },
      "id": "da504e4bc6617613"
    },
    {
      "cell_type": "code",
      "outputs": [],
      "source": [
        "SEQ_LENGTH = 40 # Choose an appropriate sequence length\n",
        "\n",
        "# Convert the text to a list of sequences of numbers\n",
        "sequences = tokenizer.texts_to_sequences([text])[0]\n",
        "\n",
        "# Generate the training sequences\n",
        "X = []\n",
        "y = []\n",
        "for i in range(len(sequences) - SEQ_LENGTH):\n",
        "    X.append(sequences[i:i + SEQ_LENGTH])\n",
        "    y.append(sequences[i + SEQ_LENGTH])"
      ],
      "metadata": {
        "id": "4ff5fc8d0273709c"
      },
      "id": "4ff5fc8d0273709c",
      "execution_count": 8
    },
    {
      "cell_type": "markdown",
      "source": [
        "Assuming your sequences are stored in `X` and the corresponding targets in `y`, the following line should print the first training sequence and its target:"
      ],
      "metadata": {
        "collapsed": false,
        "id": "3b6bdc0deb930df1"
      },
      "id": "3b6bdc0deb930df1"
    },
    {
      "cell_type": "code",
      "outputs": [
        {
          "output_type": "stream",
          "name": "stdout",
          "text": [
            "Sequence: [2, 56, 54, 1, 4, 107, 28, 1, 172, 20, 1, 13, 16, 2, 176, 4, 1, 1, 33, 43, 1, 3, 14, 1, 43, 1, 1, 10, 85, 1, 15, 124, 15, 163, 29, 1, 176, 15, 1, 2]\n",
            "Target: 1\n",
            "Translated back to words: ['the', 'project', 'gutenberg', '<UNK>', 'of', 'hamlet', 'by', '<UNK>', 'shakespeare', 'this', '<UNK>', 'is', 'for', 'the', 'use', 'of', '<UNK>', '<UNK>', 'at', 'no', '<UNK>', 'and', 'with', '<UNK>', 'no', '<UNK>', '<UNK>', 'you', 'may', '<UNK>', 'it', 'give', 'it', 'away', 'or', '<UNK>', 'use', 'it', '<UNK>', 'the'] -> <UNK>\n"
          ]
        }
      ],
      "source": [
        "print(f'Sequence: {X[0]}\\nTarget: {y[0]}')\n",
        "print(f'Translated back to words: {[tokenizer.index_word[i] for i in X[0]]} -> {tokenizer.index_word[y[0]]}')"
      ],
      "metadata": {
        "colab": {
          "base_uri": "https://localhost:8080/"
        },
        "id": "a495cab04001ce92",
        "outputId": "a3e61e57-4ce6-42db-b84d-0f6f6edb9065"
      },
      "id": "a495cab04001ce92",
      "execution_count": 9
    },
    {
      "cell_type": "markdown",
      "source": [
        "And the following code will transform y into a one-hot encoded matrix, and split everything into training and validation sets:"
      ],
      "metadata": {
        "collapsed": false,
        "id": "d5bb2c55da17aaa0"
      },
      "id": "d5bb2c55da17aaa0"
    },
    {
      "cell_type": "code",
      "outputs": [
        {
          "output_type": "stream",
          "name": "stdout",
          "text": [
            "X_train shape: (70996, 40)\n",
            "y_train shape: (70996, 200)\n"
          ]
        }
      ],
      "source": [
        "from sklearn.model_selection import train_test_split\n",
        "from keras.utils import to_categorical\n",
        "import numpy as np\n",
        "\n",
        "# Convert X and y to numpy arrays\n",
        "X = np.array(X)\n",
        "y = np.array(y)\n",
        "\n",
        "# One last thing: let's drop any examples where the target is the OOV token - we don't want our model to predict that (boring!)\n",
        "mask = y != tokenizer.word_index[OOV_TOKEN]\n",
        "X = X[mask]\n",
        "y = y[mask]\n",
        "\n",
        "# One-hot encode the target token\n",
        "y = to_categorical(y, num_classes=VOCAB_SIZE)\n",
        "\n",
        "# Split the data into training and validation sets\n",
        "X_train, X_val, y_train, y_val = train_test_split(X, y, test_size=0.2, random_state=42)\n",
        "\n",
        "print(f'X_train shape: {X_train.shape}')\n",
        "print(f'y_train shape: {y_train.shape}')"
      ],
      "metadata": {
        "colab": {
          "base_uri": "https://localhost:8080/"
        },
        "id": "3a929b2e6c2cc921",
        "outputId": "da4d685c-ce50-4afd-c15e-7961feb46bf7"
      },
      "id": "3a929b2e6c2cc921",
      "execution_count": 10
    },
    {
      "cell_type": "markdown",
      "source": [
        "# 2. Model Development (10 Marks)\n",
        "\n",
        "With the dataset prepared, it's time to develop the RNN model. You'll need to define the architecture of the model, compile it, and prepare it for training.\n",
        "\n",
        "## 2.1 Model Architecture (4 Marks)\n",
        "\n",
        "Define the architecture of your RNN model. You can design it however you like, but there are a few features that it's important to include:\n",
        "\n",
        "*   An embedding layer that learns a dense representation of the input tokens. You'll need to specify the input dimension (the size of the vocabulary) and the output dimension (the size of the dense representation). Remember, you can look at the documentation [here](https://keras.io/api/layers/core_layers/embedding/).\n",
        "*   At least one recurrent layer. We have learned how to use LSTM layers in class, but you can use other types of recurrent layers if you prefer. You can find the documentation [here](https://keras.io/api/layers/recurrent_layers/lstm/).\n",
        "*   A dense layer with a softmax activation function. This layer will output a probability distribution over the vocabulary, so that the model can make predictions about the next token."
      ],
      "metadata": {
        "collapsed": false,
        "id": "b6e4161897210434"
      },
      "id": "b6e4161897210434"
    },
    {
      "cell_type": "code",
      "outputs": [
        {
          "output_type": "stream",
          "name": "stdout",
          "text": [
            "Model: \"sequential\"\n",
            "_________________________________________________________________\n",
            " Layer (type)                Output Shape              Param #   \n",
            "=================================================================\n",
            " embedding (Embedding)       (None, None, 200)         2643800   \n",
            "                                                                 \n",
            " lstm (LSTM)                 (None, 256)               467968    \n",
            "                                                                 \n",
            " dense (Dense)               (None, 200)               51400     \n",
            "                                                                 \n",
            "=================================================================\n",
            "Total params: 3163168 (12.07 MB)\n",
            "Trainable params: 3163168 (12.07 MB)\n",
            "Non-trainable params: 0 (0.00 Byte)\n",
            "_________________________________________________________________\n"
          ]
        }
      ],
      "source": [
        "from keras.models import Sequential\n",
        "from keras.layers import Embedding, LSTM, Dense\n",
        "\n",
        "model = Sequential([\n",
        "    # Your code here\n",
        "    Embedding(input_dim=len(tokenizer.word_index)+1, output_dim=VOCAB_SIZE),\n",
        "    LSTM(256),\n",
        "    Dense(VOCAB_SIZE, activation='softmax')\n",
        "])\n",
        "\n",
        "model.summary()"
      ],
      "metadata": {
        "colab": {
          "base_uri": "https://localhost:8080/"
        },
        "id": "9fdfaad93818fc8d",
        "outputId": "df115fa7-5089-43eb-c2ee-6de764419a65"
      },
      "id": "9fdfaad93818fc8d",
      "execution_count": 11
    },
    {
      "cell_type": "markdown",
      "source": [
        "## 2.2 Model Compilation (3 Marks)\n",
        "\n",
        "Compile the model with an appropriate loss function and optimizer. You might also want to track additional metrics, such as accuracy.\n",
        "\n",
        "Give a short explanation of your choice of loss function and optimizer:\n",
        "\n",
        "_Selected Adam optimizer for its ease of use and efficiencies. Provided better results that others. The loss function is set to 'categorical crossentropy' because targets are one-hot encoded which simplifies data paraation._"
      ],
      "metadata": {
        "collapsed": false,
        "id": "2fafd2dbb0d589fc"
      },
      "id": "2fafd2dbb0d589fc"
    },
    {
      "cell_type": "code",
      "outputs": [],
      "source": [
        "# Your code here\n",
        "from tensorflow.keras.optimizers import Adam\n",
        "# Compile the model\n",
        "model.compile(loss='categorical_crossentropy', optimizer=Adam(learning_rate=0.01), metrics=['accuracy'])"
      ],
      "metadata": {
        "id": "ae4ca7a12051b1fd"
      },
      "id": "ae4ca7a12051b1fd",
      "execution_count": 12
    },
    {
      "cell_type": "markdown",
      "source": [
        "## 2.3 Model Training (3 Marks)\n",
        "\n",
        "Train the model on the training data you've prepared.\n",
        "\n",
        "* Train your model for 5 epochs with a batch size of 128. Use the validation data for validation.\n",
        "* Store the training history in a variable called `history`."
      ],
      "metadata": {
        "collapsed": false,
        "id": "c2f0b90a448c4f4b"
      },
      "id": "c2f0b90a448c4f4b"
    },
    {
      "cell_type": "code",
      "outputs": [
        {
          "output_type": "stream",
          "name": "stdout",
          "text": [
            "Epoch 1/5\n",
            "555/555 [==============================] - 19s 17ms/step - loss: 4.0029 - accuracy: 0.1525 - val_loss: 3.7541 - val_accuracy: 0.1817\n",
            "Epoch 2/5\n",
            "555/555 [==============================] - 7s 12ms/step - loss: 3.6359 - accuracy: 0.1916 - val_loss: 3.6808 - val_accuracy: 0.1901\n",
            "Epoch 3/5\n",
            "555/555 [==============================] - 6s 11ms/step - loss: 3.5246 - accuracy: 0.2061 - val_loss: 3.6398 - val_accuracy: 0.1976\n",
            "Epoch 4/5\n",
            "555/555 [==============================] - 6s 11ms/step - loss: 3.4417 - accuracy: 0.2180 - val_loss: 3.6248 - val_accuracy: 0.2019\n",
            "Epoch 5/5\n",
            "555/555 [==============================] - 6s 10ms/step - loss: 3.3804 - accuracy: 0.2252 - val_loss: 3.6363 - val_accuracy: 0.2050\n"
          ]
        }
      ],
      "source": [
        "# Your code here\n",
        "# Train the model\n",
        "history = model.fit(X_train, y_train, epochs=5, batch_size=128, validation_data=(X_val,y_val))"
      ],
      "metadata": {
        "colab": {
          "base_uri": "https://localhost:8080/"
        },
        "id": "256b1ea138c67ef7",
        "outputId": "b36d57de-1bf4-43d2-a702-219d6bfa6f1e"
      },
      "id": "256b1ea138c67ef7",
      "execution_count": 13
    },
    {
      "cell_type": "markdown",
      "source": [
        "Plot the training history to visualize the model's learning progress. Your plot should include the training and validation loss."
      ],
      "metadata": {
        "collapsed": false,
        "id": "195c59bf80d2a2c4"
      },
      "id": "195c59bf80d2a2c4"
    },
    {
      "cell_type": "code",
      "outputs": [
        {
          "output_type": "display_data",
          "data": {
            "text/plain": [
              "<Figure size 640x480 with 1 Axes>"
            ],
            "image/png": "[encoded data removed]"
          },
          "metadata": {}
        }
      ],
      "source": [
        "import matplotlib.pyplot as plt\n",
        "\n",
        "# Your code here\n",
        "\n",
        "plt.plot(history.history['loss'])\n",
        "plt.plot(history.history['val_loss'])\n",
        "plt.title('Model loss')\n",
        "plt.ylabel('Loss')\n",
        "plt.xlabel('Epoch')\n",
        "plt.legend(['Train', 'Validation'], loc='upper left')\n",
        "plt.show()"
      ],
      "metadata": {
        "id": "9e8cacec70d8f313",
        "colab": {
          "base_uri": "https://localhost:8080/",
          "height": 472
        },
        "outputId": "e17be64d-ece3-45d0-986a-d43ee427b361"
      },
      "id": "9e8cacec70d8f313",
      "execution_count": 14
    },
    {
      "cell_type": "markdown",
      "source": [
        "# 3. Text Generation (10 Marks)\n",
        "\n",
        "Write a method called `generate_text` that uses the trained model to generate new text. The method should take the following parameters:\n",
        "\n",
        "*   `model`: The trained RNN model.\n",
        "*   `tokenizer`: The tokenizer used to pre-process the text data.\n",
        "*   `seed_text`: The seed text the model will use to generate new text.\n",
        "*   `max_sequence_len`: The maximum length of the sequence used to generate new text.\n",
        "\n",
        "The method should return the generated text.\n",
        "\n",
        "An overview of the text generation process you should follow:\n",
        "\n",
        "1. Tokenize the seed text using the tokenizer we built before.\n",
        "2. Pad the sequences to the same length as the training sequences - you can use the `pad_sequences` method from the `keras.preprocessing.sequence` module, which is documented [here](https://www.tensorflow.org/api_docs/python/tf/keras/preprocessing/sequence/pad_sequences).\n",
        "3. Use the model to predict the next token in the sequence. Remember that the model will output a probability distribution over the vocabulary, so you'll need to use `np.argmax` to find the token with the highest probability.\n",
        "4. Add the predicted token to the sequence and remove the first token.\n",
        "5. Repeat steps 3-4 until you have generated the desired number of tokens.\n",
        "6. Convert the generated token IDs back to words and return the combined result as a single string.\n",
        "\n",
        "This is a challenging task, so don't hesitate to ask for help if you need it. It's okay if the generated text doesn't make much sense yet - we'll work on improving the model next.\n",
        "As a bonus, you can make your method generate \"gpt-style\" by having it print out each word as it's generated, so you can see the text being generated in real time."
      ],
      "metadata": {
        "collapsed": false,
        "id": "3d9ed71305787aed"
      },
      "id": "3d9ed71305787aed"
    },
    {
      "cell_type": "code",
      "outputs": [],
      "source": [
        "from keras.preprocessing.sequence import pad_sequences\n",
        "\n",
        "def get_predicted_word(model, sequence):\n",
        "    \"\"\"\n",
        "    Get the predicted word from the model.\n",
        "    This helper function uses a concept we haven't covered in class yet: temperature.\n",
        "    In essence, a little bit of randomness in what word we predict can make the text more interesting.\n",
        "    \"\"\"\n",
        "\n",
        "    # Use the model to predict the next token in the sequence\n",
        "    yhat = model.predict(sequence, verbose=0)\n",
        "\n",
        "    # Get the index of the predicted word, according to the probabilities\n",
        "    yhat = np.random.choice(range(VOCAB_SIZE), p=yhat.ravel())\n",
        "\n",
        "    return yhat\n",
        "\n",
        "def generate_text(model, tokenizer, seed_text, max_sequence_len):\n",
        "    \"\"\"\n",
        "    Generate new text using the trained model.\n",
        "    You can use the `get_predicted_word` helper function to help you with this.\n",
        "    \"\"\"\n",
        "\n",
        "    result = seed_text\n",
        "    # Tokenize the seed text\n",
        "    seed = tokenizer.texts_to_sequences([seed_text])[0]\n",
        "\n",
        "    for _ in range(max_sequence_len):\n",
        "        # Pad the sequence\n",
        "        padded = pad_sequences([seed], maxlen=max_sequence_len, padding='pre')\n",
        "\n",
        "        # Get the predicted word index\n",
        "        predicted_word_index = get_predicted_word(model, padded)\n",
        "\n",
        "        # Convert index to word\n",
        "        predicted_word = tokenizer.index_word[predicted_word_index]\n",
        "\n",
        "        # Add the predicted word to the result\n",
        "        result += ' ' + predicted_word\n",
        "\n",
        "        # Update the seed for next iteration\n",
        "        seed.append(predicted_word_index)\n",
        "\n",
        "    return result\n"
      ],
      "metadata": {
        "id": "d73dbf278a1265ef"
      },
      "id": "d73dbf278a1265ef",
      "execution_count": 15
    },
    {
      "cell_type": "code",
      "outputs": [
        {
          "output_type": "execute_result",
          "data": {
            "text/plain": [
              "'hamlet have my lord the man too much of your daughter could not speak i not take thee if you had not only the first queen and the it shall be there to his own this and the old and as'"
            ],
            "application/vnd.google.colaboratory.intrinsic+json": {
              "type": "string"
            }
          },
          "metadata": {},
          "execution_count": 16
        }
      ],
      "source": [
        "# Test the text generation function\n",
        "generate_text(model, tokenizer, 'hamlet', SEQ_LENGTH)"
      ],
      "metadata": {
        "colab": {
          "base_uri": "https://localhost:8080/",
          "height": 52
        },
        "id": "f463b0c3df49e2c",
        "outputId": "22bf8530-0542-46dc-abca-c6f1d438ae81"
      },
      "id": "f463b0c3df49e2c",
      "execution_count": 16
    },
    {
      "cell_type": "markdown",
      "source": [
        "It's likely that the text generated by your model doesn't make much sense yet. This is because the model hasn't been trained for very long, and the training dataset is relatively small.\n",
        "\n",
        "# 4. Model Refinement (5 Marks)\n",
        "\n",
        "In this last section, you'll work on improving your model. There are many ways to do this, but here are a few ideas to get you started:\n",
        "\n",
        "* Use pre-trained embeddings: the code below will help you to load pre-trained embeddings through Keras.\n",
        "* Experiment with different model architectures, including the number of layers, the number of units in each layer, and the use of dropout layers.\n",
        "* Train your model for longer. You can also experiment with different batch sizes.\n",
        "\n",
        "Implement and test out at least one of these ideas. If you have other ideas for improving the model, feel free to try them out as well."
      ],
      "metadata": {
        "collapsed": false,
        "id": "5871d836a0135c41"
      },
      "id": "5871d836a0135c41"
    },
    {
      "cell_type": "code",
      "outputs": [
        {
          "output_type": "stream",
          "name": "stdout",
          "text": [
            "--2024-05-15 04:03:25--  https://downloads.cs.stanford.edu/nlp/data/glove.6B.zip\n",
            "Resolving downloads.cs.stanford.edu (downloads.cs.stanford.edu)... 171.64.64.22\n",
            "Connecting to downloads.cs.stanford.edu (downloads.cs.stanford.edu)|171.64.64.22|:443... connected.\n",
            "HTTP request sent, awaiting response... 200 OK\n",
            "Length: 862182613 (822M) [application/zip]\n",
            "Saving to: ‘glove.6B.zip’\n",
            "\n",
            "glove.6B.zip        100%[===================>] 822.24M  5.89MB/s    in 2m 42s  \n",
            "\n",
            "2024-05-15 04:06:08 (5.09 MB/s) - ‘glove.6B.zip’ saved [862182613/862182613]\n",
            "\n",
            "Archive:  glove.6B.zip\n",
            "  inflating: glove.6B.50d.txt        \n",
            "  inflating: glove.6B.100d.txt       \n",
            "  inflating: glove.6B.200d.txt       \n",
            "  inflating: glove.6B.300d.txt       \n"
          ]
        }
      ],
      "source": [
        "!wget https://downloads.cs.stanford.edu/nlp/data/glove.6B.zip\n",
        "!unzip glove.6B.zip"
      ],
      "metadata": {
        "colab": {
          "base_uri": "https://localhost:8080/"
        },
        "id": "dda8b0f845c20862",
        "outputId": "a0955cb2-aa2f-433a-edc3-0678225e3878"
      },
      "id": "dda8b0f845c20862",
      "execution_count": 17
    },
    {
      "cell_type": "code",
      "outputs": [
        {
          "output_type": "stream",
          "name": "stdout",
          "text": [
            "Found 400000 word vectors.\n"
          ]
        }
      ],
      "source": [
        "# Load the pre-trained embeddings\n",
        "embeddings_index = {}\n",
        "with open('glove.6B.100d.txt', encoding='utf-8') as f:\n",
        "    for line in f:\n",
        "        values = line.split()\n",
        "        word = values[0]\n",
        "        coefs = np.asarray(values[1:], dtype='float32')\n",
        "        embeddings_index[word] = coefs\n",
        "\n",
        "print(f'Found {len(embeddings_index)} word vectors.')"
      ],
      "metadata": {
        "colab": {
          "base_uri": "https://localhost:8080/"
        },
        "id": "e8b777220505635",
        "outputId": "478e860e-c6c4-4414-c851-81d7c68e0da4"
      },
      "id": "e8b777220505635",
      "execution_count": 18
    },
    {
      "cell_type": "code",
      "outputs": [],
      "source": [
        "# Create an embedding matrix\n",
        "embedding_matrix = np.zeros((VOCAB_SIZE, 100))\n",
        "for word, i in tokenizer.word_index.items():\n",
        "    if i < VOCAB_SIZE:\n",
        "        embedding_vector = embeddings_index.get(word)\n",
        "        if embedding_vector is not None:\n",
        "            embedding_matrix[i] = embedding_vector"
      ],
      "metadata": {
        "id": "d3e48ff004757cf2"
      },
      "id": "d3e48ff004757cf2",
      "execution_count": 19
    },
    {
      "cell_type": "code",
      "outputs": [],
      "source": [
        "embedding_layer = Embedding(\n",
        "    VOCAB_SIZE, 100, weights=[embedding_matrix], input_length=SEQ_LENGTH, trainable=False\n",
        ")"
      ],
      "metadata": {
        "id": "e3d21d5dbbbcf9f9"
      },
      "id": "e3d21d5dbbbcf9f9",
      "execution_count": 20
    },
    {
      "cell_type": "code",
      "outputs": [],
      "source": [
        "# Define a new model and train it\n",
        "\n",
        "# Your code here\n",
        "\n",
        "import numpy as np\n",
        "from keras.layers import Embedding\n",
        "\n",
        "# Load the GloVe embeddings\n",
        "embeddings_index = {}\n",
        "with open('glove.6B.100d.txt', 'r', encoding='utf-8') as f:\n",
        "    for line in f:\n",
        "        values = line.split()\n",
        "        word = values[0]\n",
        "        coefs = np.asarray(values[1:], dtype='float32')\n",
        "        embeddings_index[word] = coefs\n",
        "\n",
        "# Create an embedding matrix\n",
        "embedding_matrix = np.zeros((len(tokenizer.word_index) + 1, 100))\n",
        "for word, i in tokenizer.word_index.items():\n",
        "    embedding_vector = embeddings_index.get(word)\n",
        "    if embedding_vector is not None:\n",
        "        embedding_matrix[i] = embedding_vector\n",
        "\n",
        "# Modify your model to use the pre-trained embeddings\n",
        "embedding_layer = Embedding(len(tokenizer.word_index) + 1, 100, weights=[embedding_matrix], input_length=SEQ_LENGTH, trainable=False)\n",
        "\n",
        "# Update your model architecture to use the embedding layer\n",
        "model = Sequential([\n",
        "    embedding_layer,\n",
        "    LSTM(256, return_sequences=True),\n",
        "    LSTM(256),\n",
        "    Dense(VOCAB_SIZE, activation='softmax')\n",
        "])\n"
      ],
      "metadata": {
        "id": "236cb723e4e5b3fc"
      },
      "id": "236cb723e4e5b3fc",
      "execution_count": 22
    },
    {
      "cell_type": "code",
      "source": [
        "from tensorflow.keras.optimizers import Adam\n",
        "# Compile the model\n",
        "model.compile(loss='categorical_crossentropy', optimizer=Adam(learning_rate=0.01), metrics=['accuracy'])"
      ],
      "metadata": {
        "id": "8hArGxAkb_hi"
      },
      "id": "8hArGxAkb_hi",
      "execution_count": 24,
      "outputs": []
    },
    {
      "cell_type": "code",
      "execution_count": 25,
      "metadata": {
        "colab": {
          "base_uri": "https://localhost:8080/"
        },
        "outputId": "3d2d9dc8-7a5a-45a8-db9e-13c2ed4ba65b",
        "id": "OBK6eRpKb7j_"
      },
      "outputs": [
        {
          "output_type": "stream",
          "name": "stdout",
          "text": [
            "Epoch 1/5\n",
            "555/555 [==============================] - 15s 18ms/step - loss: 4.1053 - accuracy: 0.1386 - val_loss: 3.8146 - val_accuracy: 0.1713\n",
            "Epoch 2/5\n",
            "555/555 [==============================] - 10s 18ms/step - loss: 3.6907 - accuracy: 0.1824 - val_loss: 3.7013 - val_accuracy: 0.1844\n",
            "Epoch 3/5\n",
            "555/555 [==============================] - 10s 18ms/step - loss: 3.5578 - accuracy: 0.2013 - val_loss: 3.6438 - val_accuracy: 0.1882\n",
            "Epoch 4/5\n",
            "555/555 [==============================] - 9s 16ms/step - loss: 3.4526 - accuracy: 0.2152 - val_loss: 3.5992 - val_accuracy: 0.2030\n",
            "Epoch 5/5\n",
            "555/555 [==============================] - 11s 21ms/step - loss: 3.3502 - accuracy: 0.2305 - val_loss: 3.5823 - val_accuracy: 0.2058\n"
          ]
        }
      ],
      "source": [
        "# Train the model\n",
        "history = model.fit(X_train, y_train, epochs=5, batch_size=128, validation_data=(X_val,y_val))"
      ],
      "id": "OBK6eRpKb7j_"
    },
    {
      "cell_type": "code",
      "source": [],
      "metadata": {
        "id": "XHFMquX8cEvG"
      },
      "id": "XHFMquX8cEvG",
      "execution_count": null,
      "outputs": []
    },
    {
      "cell_type": "code",
      "execution_count": 26,
      "metadata": {
        "outputId": "1872dbc3-5d72-48f5-a8a1-1d15a622fa9e",
        "colab": {
          "base_uri": "https://localhost:8080/",
          "height": 472
        },
        "id": "YG11QbQmcFJv"
      },
      "outputs": [
        {
          "output_type": "display_data",
          "data": {
            "text/plain": [
              "<Figure size 640x480 with 1 Axes>"
            ],
            "image/png": "[encoded data removed]"
          },
          "metadata": {}
        }
      ],
      "source": [
        "import matplotlib.pyplot as plt\n",
        "plt.plot(history.history['loss'])\n",
        "plt.plot(history.history['val_loss'])\n",
        "plt.title('Model loss')\n",
        "plt.ylabel('Loss')\n",
        "plt.xlabel('Epoch')\n",
        "plt.legend(['Train', 'Validation'], loc='upper left')\n",
        "plt.show()"
      ],
      "id": "YG11QbQmcFJv"
    }
  ],
  "metadata": {
    "kernelspec": {
      "name": "python3",
      "display_name": "Python 3"
    },
    "language_info": {
      "codemirror_mode": {
        "name": "ipython",
        "version": 2
      },
      "file_extension": ".py",
      "mimetype": "text/x-python",
      "name": "python",
      "nbconvert_exporter": "python",
      "pygments_lexer": "ipython2",
      "version": "2.7.6"
    },
    "colab": {
      "provenance": [],
      "gpuType": "T4"
    },
    "accelerator": "GPU"
  },
  "nbformat": 4,
  "nbformat_minor": 5
}